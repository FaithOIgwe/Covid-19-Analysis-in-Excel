{
  "nbformat": 4,
  "nbformat_minor": 0,
  "metadata": {
    "colab": {
      "provenance": [],
      "collapsed_sections": [],
      "include_colab_link": true
    },
    "kernelspec": {
      "name": "python3",
      "display_name": "Python 3"
    },
    "language_info": {
      "name": "python"
    }
  },
  "cells": [
    {
      "cell_type": "markdown",
      "metadata": {
        "id": "view-in-github",
        "colab_type": "text"
      },
      "source": [
        "<a href=\"https://colab.research.google.com/github/FaithOIgwe/Covid-19-Analysis-in-Excel/blob/main/Bill_Gates_Twitter_Sentiment_Analysis_.ipynb\" target=\"_parent\"><img src=\"https://colab.research.google.com/assets/colab-badge.svg\" alt=\"Open In Colab\"/></a>"
      ]
    },
    {
      "cell_type": "markdown",
      "source": [
        "**Introduction**\n",
        "\n",
        "I carried out a twitter sentiment analysis of 2000 of **Bill Gates Tweets **in 2022. William Henry Gates III (born October 28, 1955) is an American business magnate, software developer, investor, author, and philanthropist. He is a co-founder of Microsoft, along with his late childhood friend Paul Allen.[2][3] During his career at Microsoft, Gates held the positions of chairman, chief executive officer (CEO), president and chief software architect, while also being the largest individual shareholder until May 2014.[4] He was a major entrepreneur of the microcomputer revolution of the 1970s and 1980s. He is one of the first individuals to shape the world of technology and it was such an honor to be able to mine his tweets to determine the polarity and subjectivity of his tweets if his tweets are centered around negative or positive sentiments.\n",
        "\n",
        "I used the Google Colaboratory as my IDE, I also applied for Twitter Developper Account(API) to, be granted the permission to scrape this tweets and lastly I used Tweepy to access, the Twitter API in Python.\n",
        "\n",
        "Let's find out what Bill Gates Tweets about."
      ],
      "metadata": {
        "id": "Ys5l4pNDepCK"
      }
    },
    {
      "cell_type": "markdown",
      "source": [
        "Table of content\n",
        "\n",
        "Import the necessary libraries\n",
        "\n",
        "Autheticate the user credentials\n",
        "\n",
        "Load user Credential\n",
        "\n",
        "Import the Tweets\n",
        "\n",
        "Clean Tweets\n",
        "\n",
        "Create a wordcloud using Tweets to find the most common words\n",
        "\n",
        "The Polarity and Subjectivity of His Tweets\n",
        "\n",
        "The percentage of Negative and Positive Tweets\n",
        "\n",
        "Scatter Plots showing the negative and positive tweets\n",
        "\n",
        "A histogram Showing the type of tweets"
      ],
      "metadata": {
        "id": "2TmDaLV2e0yU"
      }
    },
    {
      "cell_type": "code",
      "execution_count": 1,
      "metadata": {
        "id": "7ntet6Oo_xDU"
      },
      "outputs": [],
      "source": [
        "#Description : This is a sentiment analysis program that parses the tweets fetched from Twitter using Python\n",
        "#importing libraries \n",
        "\n",
        "import tweepy\n",
        "from textblob import TextBlob\n",
        "from wordcloud import wordcloud\n",
        "from wordcloud import WordCloud \n",
        "import pandas as pd\n",
        "import numpy as np\n",
        "import re\n",
        "import os\n",
        "import matplotlib.pyplot as plt\n",
        "from tweepy import OAuthHandler\n",
        "from tweepy import Stream\n",
        "from tweepy import API\n",
        "plt.style.use('fivethirtyeight')"
      ]
    },
    {
      "cell_type": "code",
      "source": [
        "#variables that contain the user credentiaals to access Twitter API\n",
        "\n",
        "consumer_key= os.environ.get('consumer_key')\n",
        "consumer_secret= os.environ.get('consumer_secret')\n",
        "access_token= os.environ.get('access_token')\n",
        "access_token_secret= os.environ.get('acccess_token_secret')"
      ],
      "metadata": {
        "id": "ZZ3YENbRABl6"
      },
      "execution_count": 2,
      "outputs": []
    },
    {
      "cell_type": "code",
      "source": [
        "from tweepy.auth import OAuthHandler\n",
        "\n",
        "#create the authentication object\n",
        "authenticate = OAuthHandler(consumer_key, consumer_secret)\n",
        "\n",
        "#set the access token and access token secret\n",
        "authenticate.set_access_token(access_token, access_token_secret)\n",
        "\n",
        "#Create the API object while passing in the authentication information\n",
        "api = tweepy.API(authenticate, wait_on_rate_limit = True)"
      ],
      "metadata": {
        "id": "VA06PczpBCO4"
      },
      "execution_count": null,
      "outputs": []
    },
    {
      "cell_type": "code",
      "source": [
        "#Exract 1000 tweets from the twitter user\n",
        "posts = api.user_timeline(screen_name =\"BillGates\", count=1000, lang = \"en\", tweet_mode=\"extended\")\n",
        "\n",
        "#print the last 5 tweets from the account\n",
        "print(\"show the 5 recent tweets: \\n\")\n",
        "i=1\n",
        "for tweet in posts[0:5]:\n",
        "  print(str(i) + ') '+ tweet.full_text + '\\n')\n",
        "  i = i + 1\n"
      ],
      "metadata": {
        "colab": {
          "base_uri": "https://localhost:8080/"
        },
        "id": "3zt2w7xeCwV0",
        "outputId": "3cfd1764-5c59-4947-bef8-fa45ef7d53b5"
      },
      "execution_count": null,
      "outputs": [
        {
          "output_type": "stream",
          "name": "stdout",
          "text": [
            "show the 5 recent tweets: \n",
            "\n",
            "1) After my visit to the @stanforddoerr school of sustainability, I’m even more optimistic that we can develop breakthroughs that will transform our global economy, our lives, and our planet for the better: https://t.co/aILfplXPZQ https://t.co/UzcAj4cTNx\n",
            "\n",
            "2) I was truly lucky to know Ric Weiland. He was an incredible programmer and an exceptional individual. https://t.co/tkkrpwVUwk\n",
            "\n",
            "3) Over the years, I’ve come to know Bono as an incredible storyteller and friend. I’m excited for the world to see him the same way. https://t.co/H00SFP8D3Y\n",
            "\n",
            "4) Thanks for dedicating your career to keeping the world informed, @edyong209. I hope you have a restful sabbatical.\n",
            "\n",
            "5) The world can end this pandemic while also preventing the next. As @edyong209 shares, \"such changes seem unrealistic given the relentless disappointments of the past three years, but substantial social progress always seems unfeasible until it is actually achieved.\" https://t.co/Y0l1vcYbfl\n",
            "\n"
          ]
        }
      ]
    },
    {
      "cell_type": "code",
      "source": [
        "#Create a dataframe with a column called Tweets\n",
        "df = pd.DataFrame( [tweet.full_text for tweet in posts], columns=['Tweets'])\n",
        "\n",
        "#show the first 5 rows of data\n",
        "df.head()"
      ],
      "metadata": {
        "colab": {
          "base_uri": "https://localhost:8080/",
          "height": 206
        },
        "id": "PcHZwdmiG17G",
        "outputId": "1a2b60f7-7c81-4ea1-8fcd-acce5da395ba"
      },
      "execution_count": null,
      "outputs": [
        {
          "output_type": "execute_result",
          "data": {
            "text/plain": [
              "                                              Tweets\n",
              "0  After my visit to the @stanforddoerr school of...\n",
              "1  I was truly lucky to know Ric Weiland. He was ...\n",
              "2  Over the years, I’ve come to know Bono as an i...\n",
              "3  Thanks for dedicating your career to keeping t...\n",
              "4  The world can end this pandemic while also pre..."
            ],
            "text/html": [
              "\n",
              "  <div id=\"df-1fec5056-c145-402a-8a21-7fe72b1bb954\">\n",
              "    <div class=\"colab-df-container\">\n",
              "      <div>\n",
              "<style scoped>\n",
              "    .dataframe tbody tr th:only-of-type {\n",
              "        vertical-align: middle;\n",
              "    }\n",
              "\n",
              "    .dataframe tbody tr th {\n",
              "        vertical-align: top;\n",
              "    }\n",
              "\n",
              "    .dataframe thead th {\n",
              "        text-align: right;\n",
              "    }\n",
              "</style>\n",
              "<table border=\"1\" class=\"dataframe\">\n",
              "  <thead>\n",
              "    <tr style=\"text-align: right;\">\n",
              "      <th></th>\n",
              "      <th>Tweets</th>\n",
              "    </tr>\n",
              "  </thead>\n",
              "  <tbody>\n",
              "    <tr>\n",
              "      <th>0</th>\n",
              "      <td>After my visit to the @stanforddoerr school of...</td>\n",
              "    </tr>\n",
              "    <tr>\n",
              "      <th>1</th>\n",
              "      <td>I was truly lucky to know Ric Weiland. He was ...</td>\n",
              "    </tr>\n",
              "    <tr>\n",
              "      <th>2</th>\n",
              "      <td>Over the years, I’ve come to know Bono as an i...</td>\n",
              "    </tr>\n",
              "    <tr>\n",
              "      <th>3</th>\n",
              "      <td>Thanks for dedicating your career to keeping t...</td>\n",
              "    </tr>\n",
              "    <tr>\n",
              "      <th>4</th>\n",
              "      <td>The world can end this pandemic while also pre...</td>\n",
              "    </tr>\n",
              "  </tbody>\n",
              "</table>\n",
              "</div>\n",
              "      <button class=\"colab-df-convert\" onclick=\"convertToInteractive('df-1fec5056-c145-402a-8a21-7fe72b1bb954')\"\n",
              "              title=\"Convert this dataframe to an interactive table.\"\n",
              "              style=\"display:none;\">\n",
              "        \n",
              "  <svg xmlns=\"http://www.w3.org/2000/svg\" height=\"24px\"viewBox=\"0 0 24 24\"\n",
              "       width=\"24px\">\n",
              "    <path d=\"M0 0h24v24H0V0z\" fill=\"none\"/>\n",
              "    <path d=\"M18.56 5.44l.94 2.06.94-2.06 2.06-.94-2.06-.94-.94-2.06-.94 2.06-2.06.94zm-11 1L8.5 8.5l.94-2.06 2.06-.94-2.06-.94L8.5 2.5l-.94 2.06-2.06.94zm10 10l.94 2.06.94-2.06 2.06-.94-2.06-.94-.94-2.06-.94 2.06-2.06.94z\"/><path d=\"M17.41 7.96l-1.37-1.37c-.4-.4-.92-.59-1.43-.59-.52 0-1.04.2-1.43.59L10.3 9.45l-7.72 7.72c-.78.78-.78 2.05 0 2.83L4 21.41c.39.39.9.59 1.41.59.51 0 1.02-.2 1.41-.59l7.78-7.78 2.81-2.81c.8-.78.8-2.07 0-2.86zM5.41 20L4 18.59l7.72-7.72 1.47 1.35L5.41 20z\"/>\n",
              "  </svg>\n",
              "      </button>\n",
              "      \n",
              "  <style>\n",
              "    .colab-df-container {\n",
              "      display:flex;\n",
              "      flex-wrap:wrap;\n",
              "      gap: 12px;\n",
              "    }\n",
              "\n",
              "    .colab-df-convert {\n",
              "      background-color: #E8F0FE;\n",
              "      border: none;\n",
              "      border-radius: 50%;\n",
              "      cursor: pointer;\n",
              "      display: none;\n",
              "      fill: #1967D2;\n",
              "      height: 32px;\n",
              "      padding: 0 0 0 0;\n",
              "      width: 32px;\n",
              "    }\n",
              "\n",
              "    .colab-df-convert:hover {\n",
              "      background-color: #E2EBFA;\n",
              "      box-shadow: 0px 1px 2px rgba(60, 64, 67, 0.3), 0px 1px 3px 1px rgba(60, 64, 67, 0.15);\n",
              "      fill: #174EA6;\n",
              "    }\n",
              "\n",
              "    [theme=dark] .colab-df-convert {\n",
              "      background-color: #3B4455;\n",
              "      fill: #D2E3FC;\n",
              "    }\n",
              "\n",
              "    [theme=dark] .colab-df-convert:hover {\n",
              "      background-color: #434B5C;\n",
              "      box-shadow: 0px 1px 3px 1px rgba(0, 0, 0, 0.15);\n",
              "      filter: drop-shadow(0px 1px 2px rgba(0, 0, 0, 0.3));\n",
              "      fill: #FFFFFF;\n",
              "    }\n",
              "  </style>\n",
              "\n",
              "      <script>\n",
              "        const buttonEl =\n",
              "          document.querySelector('#df-1fec5056-c145-402a-8a21-7fe72b1bb954 button.colab-df-convert');\n",
              "        buttonEl.style.display =\n",
              "          google.colab.kernel.accessAllowed ? 'block' : 'none';\n",
              "\n",
              "        async function convertToInteractive(key) {\n",
              "          const element = document.querySelector('#df-1fec5056-c145-402a-8a21-7fe72b1bb954');\n",
              "          const dataTable =\n",
              "            await google.colab.kernel.invokeFunction('convertToInteractive',\n",
              "                                                     [key], {});\n",
              "          if (!dataTable) return;\n",
              "\n",
              "          const docLinkHtml = 'Like what you see? Visit the ' +\n",
              "            '<a target=\"_blank\" href=https://colab.research.google.com/notebooks/data_table.ipynb>data table notebook</a>'\n",
              "            + ' to learn more about interactive tables.';\n",
              "          element.innerHTML = '';\n",
              "          dataTable['output_type'] = 'display_data';\n",
              "          await google.colab.output.renderOutput(dataTable, element);\n",
              "          const docLink = document.createElement('div');\n",
              "          docLink.innerHTML = docLinkHtml;\n",
              "          element.appendChild(docLink);\n",
              "        }\n",
              "      </script>\n",
              "    </div>\n",
              "  </div>\n",
              "  "
            ]
          },
          "metadata": {},
          "execution_count": 83
        }
      ]
    },
    {
      "cell_type": "code",
      "source": [
        "#Clean the text\n",
        "#Create a function to clean the tweets\n",
        "def clean(text):\n",
        "  text = re.sub(r'@[A-Za-z0-9]+', '', text) # Removes @mentions\n",
        "  text = re.sub(r'#', '', text) #Removing the '#' symbol\n",
        "  text = re.sub(r'RT[\\s]+', '', text) #Removing RT\n",
        "  text = re.sub(r'https?:\\/\\/\\S+', '', text) #Remove the hyperlink\n",
        "\n",
        "  return text\n",
        "\n",
        "  #Cleaning the text\n",
        "  df['Tweets']= df['Tweets'].apply(cleanTxt)\n",
        "  \n",
        "  #Show the Cleaned Text\n",
        "  print(df)"
      ],
      "metadata": {
        "id": "CIieiT5NJ4sg"
      },
      "execution_count": null,
      "outputs": []
    },
    {
      "cell_type": "code",
      "source": [
        "#Creata a function to get the subjectivity\n",
        "def getSubjectivity(text):\n",
        "  return TextBlob(text).sentiment.subjectivity\n",
        "\n",
        "#Create a function to get the polarity\n",
        "def getPolarity(text):\n",
        "  return TextBlob(text).sentiment.polarity\n",
        "\n",
        "#Create two new columns\n",
        "df['Subjectivity'] = df['Tweets'].apply(getSubjectivity)\n",
        "df['Polarity'] = df['Tweets'].apply(getPolarity)\n",
        "\n",
        "#Show the new dataframe with the new columns\n",
        "print(df)\n"
      ],
      "metadata": {
        "colab": {
          "base_uri": "https://localhost:8080/"
        },
        "id": "N_rbJBGwRWJg",
        "outputId": "4105f0a0-818d-40ad-8c99-9bbe54c1f87a"
      },
      "execution_count": null,
      "outputs": [
        {
          "output_type": "stream",
          "name": "stdout",
          "text": [
            "                                                Tweets  Subjectivity  Polarity\n",
            "0    After my visit to the @stanforddoerr school of...      0.333333  0.333333\n",
            "1    I was truly lucky to know Ric Weiland. He was ...      0.783333  0.475000\n",
            "2    Over the years, I’ve come to know Bono as an i...      0.591667  0.425000\n",
            "3    Thanks for dedicating your career to keeping t...      0.200000  0.200000\n",
            "4    The world can end this pandemic while also pre...      0.319444 -0.119444\n",
            "..                                                 ...           ...       ...\n",
            "195  Bono, you’re just as amazing a philanthropist ...      0.950000  0.800000\n",
            "196  I can't wait to read this. https://t.co/5ErEXh...      0.000000  0.000000\n",
            "197  We will continue working with partners and do ...      0.000000  0.000000\n",
            "198  The Gates Foundation is coming together today ...      0.569444  0.097222\n",
            "199  I'm fortunate to be vaccinated and boosted and...      0.483333  0.400000\n",
            "\n",
            "[200 rows x 3 columns]\n"
          ]
        }
      ]
    },
    {
      "cell_type": "code",
      "source": [
        "#Plot Word Cloud\n",
        "allwords = ' '.join([twts for twts in df['Tweets']])\n",
        "wordCloud  = WordCloud(width=500, height=500, random_state = 21, max_font_size = 119).generate(allwords) \n",
        "\n",
        "#show the wordCloud and interpolation is billinear\n",
        "plt.imshow(wordCloud, interpolation = \"bilinear\")\n",
        "plt.axis('off')\n",
        "plt.show()"
      ],
      "metadata": {
        "colab": {
          "base_uri": "https://localhost:8080/",
          "height": 264
        },
        "id": "_KqHZvF3UcCq",
        "outputId": "62d3bda7-e7df-49af-bfcd-13c696242d6a"
      },
      "execution_count": null,
      "outputs": [
        {
          "output_type": "display_data",
          "data": {
            "text/plain": [
              "<Figure size 432x288 with 1 Axes>"
            ],
            "image/png": "[encoded data removed]"
          },
          "metadata": {}
        }
      ]
    },
    {
      "cell_type": "code",
      "source": [
        "#Create a function to compute the negative, neutral and positive analysis \n",
        "def getAnalysis(score):\n",
        "  if score < 0:\n",
        "    return 'Negative'\n",
        "  elif score == 0:\n",
        "    return 'Neutral'\n",
        "  else:\n",
        "    return 'Positive'\n",
        "df['Analysis'] = df['Polarity'].apply(getAnalysis)\n",
        "df"
      ],
      "metadata": {
        "colab": {
          "base_uri": "https://localhost:8080/",
          "height": 1282
        },
        "id": "mRLh0PUvm-B9",
        "outputId": "7d7397fc-e439-4b8d-f0a6-af3d0d1ac64a"
      },
      "execution_count": null,
      "outputs": [
        {
          "output_type": "execute_result",
          "data": {
            "text/plain": [
              "                                                Tweets  Subjectivity  \\\n",
              "0    After my visit to the @stanforddoerr school of...      0.333333   \n",
              "1    I was truly lucky to know Ric Weiland. He was ...      0.783333   \n",
              "2    Over the years, I’ve come to know Bono as an i...      0.591667   \n",
              "3    Thanks for dedicating your career to keeping t...      0.200000   \n",
              "4    The world can end this pandemic while also pre...      0.319444   \n",
              "..                                                 ...           ...   \n",
              "195  Bono, you’re just as amazing a philanthropist ...      0.950000   \n",
              "196  I can't wait to read this. https://t.co/5ErEXh...      0.000000   \n",
              "197  We will continue working with partners and do ...      0.000000   \n",
              "198  The Gates Foundation is coming together today ...      0.569444   \n",
              "199  I'm fortunate to be vaccinated and boosted and...      0.483333   \n",
              "\n",
              "     Polarity  Analysis  \n",
              "0    0.333333  Positive  \n",
              "1    0.475000  Positive  \n",
              "2    0.425000  Positive  \n",
              "3    0.200000  Positive  \n",
              "4   -0.119444  Negative  \n",
              "..        ...       ...  \n",
              "195  0.800000  Positive  \n",
              "196  0.000000   Neutral  \n",
              "197  0.000000   Neutral  \n",
              "198  0.097222  Positive  \n",
              "199  0.400000  Positive  \n",
              "\n",
              "[200 rows x 4 columns]"
            ],
            "text/html": [
              "\n",
              "  <div id=\"df-f72ff2b8-f372-4562-9871-8cfe5ea467b0\">\n",
              "    <div class=\"colab-df-container\">\n",
              "      <div>\n",
              "<style scoped>\n",
              "    .dataframe tbody tr th:only-of-type {\n",
              "        vertical-align: middle;\n",
              "    }\n",
              "\n",
              "    .dataframe tbody tr th {\n",
              "        vertical-align: top;\n",
              "    }\n",
              "\n",
              "    .dataframe thead th {\n",
              "        text-align: right;\n",
              "    }\n",
              "</style>\n",
              "<table border=\"1\" class=\"dataframe\">\n",
              "  <thead>\n",
              "    <tr style=\"text-align: right;\">\n",
              "      <th></th>\n",
              "      <th>Tweets</th>\n",
              "      <th>Subjectivity</th>\n",
              "      <th>Polarity</th>\n",
              "      <th>Analysis</th>\n",
              "    </tr>\n",
              "  </thead>\n",
              "  <tbody>\n",
              "    <tr>\n",
              "      <th>0</th>\n",
              "      <td>After my visit to the @stanforddoerr school of...</td>\n",
              "      <td>0.333333</td>\n",
              "      <td>0.333333</td>\n",
              "      <td>Positive</td>\n",
              "    </tr>\n",
              "    <tr>\n",
              "      <th>1</th>\n",
              "      <td>I was truly lucky to know Ric Weiland. He was ...</td>\n",
              "      <td>0.783333</td>\n",
              "      <td>0.475000</td>\n",
              "      <td>Positive</td>\n",
              "    </tr>\n",
              "    <tr>\n",
              "      <th>2</th>\n",
              "      <td>Over the years, I’ve come to know Bono as an i...</td>\n",
              "      <td>0.591667</td>\n",
              "      <td>0.425000</td>\n",
              "      <td>Positive</td>\n",
              "    </tr>\n",
              "    <tr>\n",
              "      <th>3</th>\n",
              "      <td>Thanks for dedicating your career to keeping t...</td>\n",
              "      <td>0.200000</td>\n",
              "      <td>0.200000</td>\n",
              "      <td>Positive</td>\n",
              "    </tr>\n",
              "    <tr>\n",
              "      <th>4</th>\n",
              "      <td>The world can end this pandemic while also pre...</td>\n",
              "      <td>0.319444</td>\n",
              "      <td>-0.119444</td>\n",
              "      <td>Negative</td>\n",
              "    </tr>\n",
              "    <tr>\n",
              "      <th>...</th>\n",
              "      <td>...</td>\n",
              "      <td>...</td>\n",
              "      <td>...</td>\n",
              "      <td>...</td>\n",
              "    </tr>\n",
              "    <tr>\n",
              "      <th>195</th>\n",
              "      <td>Bono, you’re just as amazing a philanthropist ...</td>\n",
              "      <td>0.950000</td>\n",
              "      <td>0.800000</td>\n",
              "      <td>Positive</td>\n",
              "    </tr>\n",
              "    <tr>\n",
              "      <th>196</th>\n",
              "      <td>I can't wait to read this. https://t.co/5ErEXh...</td>\n",
              "      <td>0.000000</td>\n",
              "      <td>0.000000</td>\n",
              "      <td>Neutral</td>\n",
              "    </tr>\n",
              "    <tr>\n",
              "      <th>197</th>\n",
              "      <td>We will continue working with partners and do ...</td>\n",
              "      <td>0.000000</td>\n",
              "      <td>0.000000</td>\n",
              "      <td>Neutral</td>\n",
              "    </tr>\n",
              "    <tr>\n",
              "      <th>198</th>\n",
              "      <td>The Gates Foundation is coming together today ...</td>\n",
              "      <td>0.569444</td>\n",
              "      <td>0.097222</td>\n",
              "      <td>Positive</td>\n",
              "    </tr>\n",
              "    <tr>\n",
              "      <th>199</th>\n",
              "      <td>I'm fortunate to be vaccinated and boosted and...</td>\n",
              "      <td>0.483333</td>\n",
              "      <td>0.400000</td>\n",
              "      <td>Positive</td>\n",
              "    </tr>\n",
              "  </tbody>\n",
              "</table>\n",
              "<p>200 rows × 4 columns</p>\n",
              "</div>\n",
              "      <button class=\"colab-df-convert\" onclick=\"convertToInteractive('df-f72ff2b8-f372-4562-9871-8cfe5ea467b0')\"\n",
              "              title=\"Convert this dataframe to an interactive table.\"\n",
              "              style=\"display:none;\">\n",
              "        \n",
              "  <svg xmlns=\"http://www.w3.org/2000/svg\" height=\"24px\"viewBox=\"0 0 24 24\"\n",
              "       width=\"24px\">\n",
              "    <path d=\"M0 0h24v24H0V0z\" fill=\"none\"/>\n",
              "    <path d=\"M18.56 5.44l.94 2.06.94-2.06 2.06-.94-2.06-.94-.94-2.06-.94 2.06-2.06.94zm-11 1L8.5 8.5l.94-2.06 2.06-.94-2.06-.94L8.5 2.5l-.94 2.06-2.06.94zm10 10l.94 2.06.94-2.06 2.06-.94-2.06-.94-.94-2.06-.94 2.06-2.06.94z\"/><path d=\"M17.41 7.96l-1.37-1.37c-.4-.4-.92-.59-1.43-.59-.52 0-1.04.2-1.43.59L10.3 9.45l-7.72 7.72c-.78.78-.78 2.05 0 2.83L4 21.41c.39.39.9.59 1.41.59.51 0 1.02-.2 1.41-.59l7.78-7.78 2.81-2.81c.8-.78.8-2.07 0-2.86zM5.41 20L4 18.59l7.72-7.72 1.47 1.35L5.41 20z\"/>\n",
              "  </svg>\n",
              "      </button>\n",
              "      \n",
              "  <style>\n",
              "    .colab-df-container {\n",
              "      display:flex;\n",
              "      flex-wrap:wrap;\n",
              "      gap: 12px;\n",
              "    }\n",
              "\n",
              "    .colab-df-convert {\n",
              "      background-color: #E8F0FE;\n",
              "      border: none;\n",
              "      border-radius: 50%;\n",
              "      cursor: pointer;\n",
              "      display: none;\n",
              "      fill: #1967D2;\n",
              "      height: 32px;\n",
              "      padding: 0 0 0 0;\n",
              "      width: 32px;\n",
              "    }\n",
              "\n",
              "    .colab-df-convert:hover {\n",
              "      background-color: #E2EBFA;\n",
              "      box-shadow: 0px 1px 2px rgba(60, 64, 67, 0.3), 0px 1px 3px 1px rgba(60, 64, 67, 0.15);\n",
              "      fill: #174EA6;\n",
              "    }\n",
              "\n",
              "    [theme=dark] .colab-df-convert {\n",
              "      background-color: #3B4455;\n",
              "      fill: #D2E3FC;\n",
              "    }\n",
              "\n",
              "    [theme=dark] .colab-df-convert:hover {\n",
              "      background-color: #434B5C;\n",
              "      box-shadow: 0px 1px 3px 1px rgba(0, 0, 0, 0.15);\n",
              "      filter: drop-shadow(0px 1px 2px rgba(0, 0, 0, 0.3));\n",
              "      fill: #FFFFFF;\n",
              "    }\n",
              "  </style>\n",
              "\n",
              "      <script>\n",
              "        const buttonEl =\n",
              "          document.querySelector('#df-f72ff2b8-f372-4562-9871-8cfe5ea467b0 button.colab-df-convert');\n",
              "        buttonEl.style.display =\n",
              "          google.colab.kernel.accessAllowed ? 'block' : 'none';\n",
              "\n",
              "        async function convertToInteractive(key) {\n",
              "          const element = document.querySelector('#df-f72ff2b8-f372-4562-9871-8cfe5ea467b0');\n",
              "          const dataTable =\n",
              "            await google.colab.kernel.invokeFunction('convertToInteractive',\n",
              "                                                     [key], {});\n",
              "          if (!dataTable) return;\n",
              "\n",
              "          const docLinkHtml = 'Like what you see? Visit the ' +\n",
              "            '<a target=\"_blank\" href=https://colab.research.google.com/notebooks/data_table.ipynb>data table notebook</a>'\n",
              "            + ' to learn more about interactive tables.';\n",
              "          element.innerHTML = '';\n",
              "          dataTable['output_type'] = 'display_data';\n",
              "          await google.colab.output.renderOutput(dataTable, element);\n",
              "          const docLink = document.createElement('div');\n",
              "          docLink.innerHTML = docLinkHtml;\n",
              "          element.appendChild(docLink);\n",
              "        }\n",
              "      </script>\n",
              "    </div>\n",
              "  </div>\n",
              "  "
            ]
          },
          "metadata": {},
          "execution_count": 110
        }
      ]
    },
    {
      "cell_type": "code",
      "source": [],
      "metadata": {
        "id": "torRt9WU5v5z"
      },
      "execution_count": null,
      "outputs": []
    },
    {
      "cell_type": "code",
      "source": [
        " #Checking Positive Tweets %\n",
        "\n",
        "ptweets = df[df.Analysis == 'Positive']\n",
        "ptweets = ptweets['Tweets']\n",
        "round((ptweets.shape[0]) / df.shape[0] * 100, 1)"
      ],
      "metadata": {
        "colab": {
          "base_uri": "https://localhost:8080/"
        },
        "id": "FriXRWTr1xEz",
        "outputId": "fe8a85d2-3aa5-495e-ee68-e7eb0bfb073a"
      },
      "execution_count": null,
      "outputs": [
        {
          "output_type": "execute_result",
          "data": {
            "text/plain": [
              "72.5"
            ]
          },
          "metadata": {},
          "execution_count": 93
        }
      ]
    },
    {
      "cell_type": "code",
      "source": [
        " #Checking Negative Tweets %\n",
        "\n",
        "ptweets = df[df.Analysis == 'Negative']\n",
        "ptweets = ptweets['Tweets']\n",
        "round((ptweets.shape[0]) / df.shape[0] * 100, 1)"
      ],
      "metadata": {
        "colab": {
          "base_uri": "https://localhost:8080/"
        },
        "id": "0bN-tzu016R8",
        "outputId": "b658f251-7481-4a2e-a325-6ec55868b792"
      },
      "execution_count": null,
      "outputs": [
        {
          "output_type": "execute_result",
          "data": {
            "text/plain": [
              "7.0"
            ]
          },
          "metadata": {},
          "execution_count": 95
        }
      ]
    },
    {
      "cell_type": "code",
      "source": [
        "#Making Histogram\n",
        "\n",
        "df['Analysis'].value_counts()\n",
        "plt.title(\"Bill Gates Sentiment Analysis\")\n",
        "plt.xlabel(\"Sentiments\")\n",
        "plt.ylabel(\"Counts\")\n",
        "df['Analysis'].value_counts().plot(kind='bar')\n",
        "plt.show()"
      ],
      "metadata": {
        "colab": {
          "base_uri": "https://localhost:8080/",
          "height": 374
        },
        "id": "vshQJUEt2FJE",
        "outputId": "ab1c0e93-e4d9-48f4-a324-be0dd45151f8"
      },
      "execution_count": null,
      "outputs": [
        {
          "output_type": "display_data",
          "data": {
            "text/plain": [
              "<Figure size 432x288 with 1 Axes>"
            ],
            "image/png": "[encoded data removed]"
          },
          "metadata": {}
        }
      ]
    },
    {
      "cell_type": "code",
      "source": [],
      "metadata": {
        "id": "wFYHtGO62RTW"
      },
      "execution_count": null,
      "outputs": []
    }
  ]
}